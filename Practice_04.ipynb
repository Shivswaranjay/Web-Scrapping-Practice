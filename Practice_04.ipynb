{
  "nbformat": 4,
  "nbformat_minor": 0,
  "metadata": {
    "colab": {
      "provenance": [],
      "authorship_tag": "ABX9TyMCdGSJibByZ6RgunmFSJua",
      "include_colab_link": true
    },
    "kernelspec": {
      "name": "python3",
      "display_name": "Python 3"
    },
    "language_info": {
      "name": "python"
    }
  },
  "cells": [
    {
      "cell_type": "markdown",
      "metadata": {
        "id": "view-in-github",
        "colab_type": "text"
      },
      "source": [
        "<a href=\"https://colab.research.google.com/github/Shivswaranjay/Web-Scrapping-Practices/blob/main/Practice_04.ipynb\" target=\"_parent\"><img src=\"https://colab.research.google.com/assets/colab-badge.svg\" alt=\"Open In Colab\"/></a>"
      ]
    },
    {
      "cell_type": "code",
      "execution_count": 2,
      "metadata": {
        "id": "E-q1j08EB-yl"
      },
      "outputs": [],
      "source": [
        "html = '<!DOCTYPE html>\\\n",
        "<html>\\\n",
        "<head>\\\n",
        "<title>PrepInsta Website</title>\\\n",
        "</head>\\\n",
        "<body class=\"myMain\">\\\n",
        "<h1 class=\"mainHead\">Welcome to PrepInsta</h1>\\\n",
        "<p>New Chapter Begins...</p>\\\n",
        "<p>Lets begin...</p>\\\n",
        "<div id=\"sampleDiv\">This is a div\\\n",
        "<p>This is a great website for us to prepare</p>\\\n",
        "</div>\\\n",
        "<p class=\"link\">This is a <a href=\"https://prepinstaprime.com\">Link</a> to PrepInsta website</p>\\\n",
        "<p>We wish you <b>All the best</b></p>\\\n",
        "<h2><a href=\"https://prepinsta.com/terms-and-conditions/\">Terms and Conditions</a></h2>\\\n",
        "<h2 class=\"duplicate\"><a href=\"https://prepinsta.com/terms-and-conditions/\">Terms and Conditions</a></h2>\\\n",
        "</body>\\\n",
        "</html>'"
      ]
    },
    {
      "cell_type": "code",
      "source": [
        "from bs4 import BeautifulSoup\n",
        "data = BeautifulSoup(html,'html.parser')\n",
        "print(data.prettify())"
      ],
      "metadata": {
        "colab": {
          "base_uri": "https://localhost:8080/"
        },
        "id": "r0kGHp5aCGXe",
        "outputId": "75d87bcb-c29f-4d00-bfde-0010cbf7b6f6"
      },
      "execution_count": 5,
      "outputs": [
        {
          "output_type": "stream",
          "name": "stdout",
          "text": [
            "<!DOCTYPE html>\n",
            "<html>\n",
            " <head>\n",
            "  <title>\n",
            "   PrepInsta Website\n",
            "  </title>\n",
            " </head>\n",
            " <body class=\"myMain\">\n",
            "  <h1 class=\"mainHead\">\n",
            "   Welcome to PrepInsta\n",
            "  </h1>\n",
            "  <p>\n",
            "   New Chapter Begins...\n",
            "  </p>\n",
            "  <p>\n",
            "   Lets begin...\n",
            "  </p>\n",
            "  <div id=\"sampleDiv\">\n",
            "   This is a div\n",
            "   <p>\n",
            "    This is a great website for us to prepare\n",
            "   </p>\n",
            "  </div>\n",
            "  <p class=\"link\">\n",
            "   This is a\n",
            "   <a href=\"https://prepinstaprime.com\">\n",
            "    Link\n",
            "   </a>\n",
            "   to PrepInsta website\n",
            "  </p>\n",
            "  <p>\n",
            "   We wish you\n",
            "   <b>\n",
            "    All the best\n",
            "   </b>\n",
            "  </p>\n",
            "  <h2>\n",
            "   <a href=\"https://prepinsta.com/terms-and-conditions/\">\n",
            "    Terms and Conditions\n",
            "   </a>\n",
            "  </h2>\n",
            "  <h2 class=\"duplicate\">\n",
            "   <a href=\"https://prepinsta.com/terms-and-conditions/\">\n",
            "    Terms and Conditions\n",
            "   </a>\n",
            "  </h2>\n",
            " </body>\n",
            "</html>\n"
          ]
        }
      ]
    },
    {
      "cell_type": "code",
      "source": [
        "parent=data.body.parent\n",
        "parent"
      ],
      "metadata": {
        "colab": {
          "base_uri": "https://localhost:8080/"
        },
        "id": "LjcyLeXMCGbt",
        "outputId": "79ef8bf2-8657-4d90-ea9a-8ce9e0238087"
      },
      "execution_count": 7,
      "outputs": [
        {
          "output_type": "execute_result",
          "data": {
            "text/plain": [
              "<html><head><title>PrepInsta Website</title></head><body class=\"myMain\"><h1 class=\"mainHead\">Welcome to PrepInsta</h1><p>New Chapter Begins...</p><p>Lets begin...</p><div id=\"sampleDiv\">This is a div<p>This is a great website for us to prepare</p></div><p class=\"link\">This is a <a href=\"https://prepinstaprime.com\">Link</a> to PrepInsta website</p><p>We wish you <b>All the best</b></p><h2><a href=\"https://prepinsta.com/terms-and-conditions/\">Terms and Conditions</a></h2><h2 class=\"duplicate\"><a href=\"https://prepinsta.com/terms-and-conditions/\">Terms and Conditions</a></h2></body></html>"
            ]
          },
          "metadata": {},
          "execution_count": 7
        }
      ]
    },
    {
      "cell_type": "code",
      "source": [
        "parent=data.p.parent\n",
        "parent"
      ],
      "metadata": {
        "colab": {
          "base_uri": "https://localhost:8080/"
        },
        "id": "wB7W27CnCGdl",
        "outputId": "4c516709-df17-4b14-b026-69ef875e5ab9"
      },
      "execution_count": 8,
      "outputs": [
        {
          "output_type": "execute_result",
          "data": {
            "text/plain": [
              "<body class=\"myMain\"><h1 class=\"mainHead\">Welcome to PrepInsta</h1><p>New Chapter Begins...</p><p>Lets begin...</p><div id=\"sampleDiv\">This is a div<p>This is a great website for us to prepare</p></div><p class=\"link\">This is a <a href=\"https://prepinstaprime.com\">Link</a> to PrepInsta website</p><p>We wish you <b>All the best</b></p><h2><a href=\"https://prepinsta.com/terms-and-conditions/\">Terms and Conditions</a></h2><h2 class=\"duplicate\"><a href=\"https://prepinsta.com/terms-and-conditions/\">Terms and Conditions</a></h2></body>"
            ]
          },
          "metadata": {},
          "execution_count": 8
        }
      ]
    },
    {
      "cell_type": "code",
      "source": [
        "parent_name= data.p.parent.name\n",
        "parent_name"
      ],
      "metadata": {
        "colab": {
          "base_uri": "https://localhost:8080/",
          "height": 36
        },
        "id": "E9GDlOMqCGgY",
        "outputId": "aa2c83bb-afad-4eb4-96ab-2dd2aa428d9a"
      },
      "execution_count": 9,
      "outputs": [
        {
          "output_type": "execute_result",
          "data": {
            "text/plain": [
              "'body'"
            ],
            "application/vnd.google.colaboratory.intrinsic+json": {
              "type": "string"
            }
          },
          "metadata": {},
          "execution_count": 9
        }
      ]
    },
    {
      "cell_type": "code",
      "source": [
        "parent_attrs=data.p.parent.attrs\n",
        "parent_attrs"
      ],
      "metadata": {
        "colab": {
          "base_uri": "https://localhost:8080/"
        },
        "id": "_YK71ZgZCGit",
        "outputId": "d0cb9e12-d80d-4155-bdf9-573a7717f1f2"
      },
      "execution_count": 10,
      "outputs": [
        {
          "output_type": "execute_result",
          "data": {
            "text/plain": [
              "{'class': ['myMain']}"
            ]
          },
          "metadata": {},
          "execution_count": 10
        }
      ]
    },
    {
      "cell_type": "code",
      "source": [
        "a_string = data.find(string = \"Terms and Conditions\")\n",
        "\n",
        "a_string.find_parent()"
      ],
      "metadata": {
        "colab": {
          "base_uri": "https://localhost:8080/"
        },
        "id": "-EsBeUF2CGlf",
        "outputId": "f06f8405-1d15-4b9b-c6ad-6b3f12c5e26d"
      },
      "execution_count": 11,
      "outputs": [
        {
          "output_type": "execute_result",
          "data": {
            "text/plain": [
              "<a href=\"https://prepinsta.com/terms-and-conditions/\">Terms and Conditions</a>"
            ]
          },
          "metadata": {},
          "execution_count": 11
        }
      ]
    },
    {
      "cell_type": "code",
      "source": [
        "a_string = data.find(string = \"Terms and Conditions\")\n",
        "\n",
        "a_string.find_parents()"
      ],
      "metadata": {
        "id": "RKc7ApGTCGns"
      },
      "execution_count": null,
      "outputs": []
    },
    {
      "cell_type": "code",
      "source": [
        "a_string = data.find(string = \"Terms and Conditions\")\n",
        "\n",
        "a_string.find_parents('body')"
      ],
      "metadata": {
        "id": "cUuz8lItCGrT"
      },
      "execution_count": null,
      "outputs": []
    },
    {
      "cell_type": "code",
      "source": [
        "import re\n",
        "a_string = data.find('p', string = re.compile('website'))\n",
        "\n",
        "a_string.find_parent()"
      ],
      "metadata": {
        "id": "sOcm7hSIO4xD"
      },
      "execution_count": null,
      "outputs": []
    },
    {
      "cell_type": "code",
      "source": [
        "import re\n",
        "a_string = data.find('p', string = re.compile('website'))\n",
        "\n",
        "a_string.find_parent('body')"
      ],
      "metadata": {
        "id": "xRd62TWuO42B"
      },
      "execution_count": null,
      "outputs": []
    },
    {
      "cell_type": "code",
      "source": [
        "para = data.find(\"p\", class_ = \"link\")\n",
        "para"
      ],
      "metadata": {
        "id": "hcqCgDSzO44n"
      },
      "execution_count": null,
      "outputs": []
    },
    {
      "cell_type": "code",
      "source": [
        "para.find_parent()"
      ],
      "metadata": {
        "id": "zTjjK4XtO47_"
      },
      "execution_count": null,
      "outputs": []
    },
    {
      "cell_type": "code",
      "source": [
        "para.find_previous_sibling()"
      ],
      "metadata": {
        "id": "MeJlwc-HPAGT"
      },
      "execution_count": null,
      "outputs": []
    },
    {
      "cell_type": "code",
      "source": [
        "para.find_previous_sibling('p')"
      ],
      "metadata": {
        "id": "g7inyFLwPAJL"
      },
      "execution_count": null,
      "outputs": []
    },
    {
      "cell_type": "code",
      "source": [
        "para.find_previous_siblings()"
      ],
      "metadata": {
        "id": "1XXjVso0PAMh"
      },
      "execution_count": null,
      "outputs": []
    },
    {
      "cell_type": "code",
      "source": [
        "para.find_previous_siblings('p')"
      ],
      "metadata": {
        "id": "NCQIAtuCPGoZ"
      },
      "execution_count": null,
      "outputs": []
    },
    {
      "cell_type": "code",
      "source": [
        "para.find_next_sibling()"
      ],
      "metadata": {
        "id": "Bw7SqKiOPGq3"
      },
      "execution_count": null,
      "outputs": []
    },
    {
      "cell_type": "code",
      "source": [
        "para.find_next_siblings()"
      ],
      "metadata": {
        "id": "RWsOptoNPGuN"
      },
      "execution_count": null,
      "outputs": []
    },
    {
      "cell_type": "code",
      "source": [
        "para.find_next_siblings('h2')"
      ],
      "metadata": {
        "id": "_llvf6O-PGxO"
      },
      "execution_count": null,
      "outputs": []
    },
    {
      "cell_type": "code",
      "source": [
        "para.find_next_siblings('h2', class_ = \"duplicate\")"
      ],
      "metadata": {
        "id": "RM6npYkfPG0F"
      },
      "execution_count": null,
      "outputs": []
    }
  ]
}