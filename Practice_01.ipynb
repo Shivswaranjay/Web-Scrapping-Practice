{
  "cells": [
    {
      "cell_type": "markdown",
      "metadata": {
        "id": "view-in-github",
        "colab_type": "text"
      },
      "source": [
        "<a href=\"https://colab.research.google.com/github/Shivswaranjay/Web-Scrapping-Practices/blob/main/Practice_01.ipynb\" target=\"_parent\"><img src=\"https://colab.research.google.com/assets/colab-badge.svg\" alt=\"Open In Colab\"/></a>"
      ]
    },
    {
      "cell_type": "code",
      "execution_count": 1,
      "metadata": {
        "id": "eF5thuzCZI7T"
      },
      "outputs": [],
      "source": [
        "html = '<!DOCTYPE html>\\\n",
        "<html>\\\n",
        "<head>\\\n",
        "    <title>PrepInsta Website</title>\\\n",
        "</head>\\\n",
        "<body>\\\n",
        "    <h1 class=\"mainHead\">Welcome to PrepInsta</h1>\\\n",
        "    <p>This is a great website for us to prepare</p>\\\n",
        "    <h2 class=\"features\">Overview</h2>\\\n",
        "    <p id=\"overview-text\">What can you do on PrepInsta Website-</p>\\\n",
        "    <p class=\"features\">You can Learn Skills</p>\\\n",
        "    <p class=\"features\">You can Learn Coding</p>\\\n",
        "    <p class=\"features\">You can Learn Languages</p>\\\n",
        "    <p class=\"features\" id = \"Apti\">You can Learn Aptitiude</p>\\\n",
        "    <p class=\"features certification\">You can get Certifications</p>\\\n",
        "    <h2>Certifications</h2>\\\n",
        "    <p class=\"features job\">You can get a High Paying Job</p>\\\n",
        "    <p class=\"features\" id=\"special-text\">PrepInsta offers you the opportunity to learn without limits all the Upskilling Courses, Placement Preparation &  Certification Courses with Single Subscription</p>\\\n",
        "    <a id=\"linkweb\" href=\"https://www.PrepInstaPrime.com\">Visit PrepInstaPrime.com!</a>\\\n",
        "    <a href=\"https://prepinstaprime.com/purchase\">Purchase Prime</a>\\\n",
        "    <a href=\"http://prepinstaprime.com/syllabus/tcs-nqt-syllabus\">TCS NQT Course</a>\\\n",
        "    <a href=\"http://prepinstaprime.com/syllabus/machine-learning-and-aritifical-intelligence-syllabus\">ML Course</a>\\\n",
        "</body>\\\n",
        "</html>'"
      ]
    },
    {
      "cell_type": "code",
      "execution_count": 2,
      "metadata": {
        "id": "LTHLNXyRZI7f"
      },
      "outputs": [],
      "source": [
        "from bs4 import BeautifulSoup"
      ]
    },
    {
      "cell_type": "code",
      "source": [
        "data = BeautifulSoup(html,'html.parser')\n",
        "data"
      ],
      "metadata": {
        "colab": {
          "base_uri": "https://localhost:8080/"
        },
        "id": "xpu7tJesZdBQ",
        "outputId": "86a6dddd-f015-44d8-da4e-94945bf59d64"
      },
      "execution_count": 4,
      "outputs": [
        {
          "output_type": "execute_result",
          "data": {
            "text/plain": [
              "<!DOCTYPE html>\n",
              "<html><head> <title>PrepInsta Website</title></head><body> <h1 class=\"mainHead\">Welcome to PrepInsta</h1> <p>This is a great website for us to prepare</p> <h2 class=\"features\">Overview</h2> <p id=\"overview-text\">What can you do on PrepInsta Website-</p> <p class=\"features\">You can Learn Skills</p> <p class=\"features\">You can Learn Coding</p> <p class=\"features\">You can Learn Languages</p> <p class=\"features\" id=\"Apti\">You can Learn Aptitiude</p> <p class=\"features certification\">You can get Certifications</p> <h2>Certifications</h2> <p class=\"features job\">You can get a High Paying Job</p> <p class=\"features\" id=\"special-text\">PrepInsta offers you the opportunity to learn without limits all the Upskilling Courses, Placement Preparation &amp;  Certification Courses with Single Subscription</p> <a href=\"https://www.PrepInstaPrime.com\" id=\"linkweb\">Visit PrepInstaPrime.com!</a> <a href=\"https://prepinstaprime.com/purchase\">Purchase Prime</a> <a href=\"http://prepinstaprime.com/syllabus/tcs-nqt-syllabus\">TCS NQT Course</a> <a href=\"http://prepinstaprime.com/syllabus/machine-learning-and-aritifical-intelligence-syllabus\">ML Course</a></body></html>"
            ]
          },
          "metadata": {},
          "execution_count": 4
        }
      ]
    },
    {
      "cell_type": "code",
      "source": [
        "data.prettify()"
      ],
      "metadata": {
        "colab": {
          "base_uri": "https://localhost:8080/",
          "height": 140
        },
        "id": "5uSQ6AGNZ-HO",
        "outputId": "5b3e8c41-d0f6-4c41-e511-3970b65aea13"
      },
      "execution_count": 5,
      "outputs": [
        {
          "output_type": "execute_result",
          "data": {
            "text/plain": [
              "'<!DOCTYPE html>\\n<html>\\n <head>\\n  <title>\\n   PrepInsta Website\\n  </title>\\n </head>\\n <body>\\n  <h1 class=\"mainHead\">\\n   Welcome to PrepInsta\\n  </h1>\\n  <p>\\n   This is a great website for us to prepare\\n  </p>\\n  <h2 class=\"features\">\\n   Overview\\n  </h2>\\n  <p id=\"overview-text\">\\n   What can you do on PrepInsta Website-\\n  </p>\\n  <p class=\"features\">\\n   You can Learn Skills\\n  </p>\\n  <p class=\"features\">\\n   You can Learn Coding\\n  </p>\\n  <p class=\"features\">\\n   You can Learn Languages\\n  </p>\\n  <p class=\"features\" id=\"Apti\">\\n   You can Learn Aptitiude\\n  </p>\\n  <p class=\"features certification\">\\n   You can get Certifications\\n  </p>\\n  <h2>\\n   Certifications\\n  </h2>\\n  <p class=\"features job\">\\n   You can get a High Paying Job\\n  </p>\\n  <p class=\"features\" id=\"special-text\">\\n   PrepInsta offers you the opportunity to learn without limits all the Upskilling Courses, Placement Preparation &amp;  Certification Courses with Single Subscription\\n  </p>\\n  <a href=\"https://www.PrepInstaPrime.com\" id=\"linkweb\">\\n   Visit PrepInstaPrime.com!\\n  </a>\\n  <a href=\"https://prepinstaprime.com/purchase\">\\n   Purchase Prime\\n  </a>\\n  <a href=\"http://prepinstaprime.com/syllabus/tcs-nqt-syllabus\">\\n   TCS NQT Course\\n  </a>\\n  <a href=\"http://prepinstaprime.com/syllabus/machine-learning-and-aritifical-intelligence-syllabus\">\\n   ML Course\\n  </a>\\n </body>\\n</html>'"
            ],
            "application/vnd.google.colaboratory.intrinsic+json": {
              "type": "string"
            }
          },
          "metadata": {},
          "execution_count": 5
        }
      ]
    },
    {
      "cell_type": "code",
      "source": [
        "data.html"
      ],
      "metadata": {
        "colab": {
          "base_uri": "https://localhost:8080/"
        },
        "id": "twBgTe7DaONL",
        "outputId": "19f1ab22-647d-4d55-8b2e-069e94b63623"
      },
      "execution_count": 6,
      "outputs": [
        {
          "output_type": "execute_result",
          "data": {
            "text/plain": [
              "<html><head> <title>PrepInsta Website</title></head><body> <h1 class=\"mainHead\">Welcome to PrepInsta</h1> <p>This is a great website for us to prepare</p> <h2 class=\"features\">Overview</h2> <p id=\"overview-text\">What can you do on PrepInsta Website-</p> <p class=\"features\">You can Learn Skills</p> <p class=\"features\">You can Learn Coding</p> <p class=\"features\">You can Learn Languages</p> <p class=\"features\" id=\"Apti\">You can Learn Aptitiude</p> <p class=\"features certification\">You can get Certifications</p> <h2>Certifications</h2> <p class=\"features job\">You can get a High Paying Job</p> <p class=\"features\" id=\"special-text\">PrepInsta offers you the opportunity to learn without limits all the Upskilling Courses, Placement Preparation &amp;  Certification Courses with Single Subscription</p> <a href=\"https://www.PrepInstaPrime.com\" id=\"linkweb\">Visit PrepInstaPrime.com!</a> <a href=\"https://prepinstaprime.com/purchase\">Purchase Prime</a> <a href=\"http://prepinstaprime.com/syllabus/tcs-nqt-syllabus\">TCS NQT Course</a> <a href=\"http://prepinstaprime.com/syllabus/machine-learning-and-aritifical-intelligence-syllabus\">ML Course</a></body></html>"
            ]
          },
          "metadata": {},
          "execution_count": 6
        }
      ]
    },
    {
      "cell_type": "code",
      "source": [
        "data.html.head"
      ],
      "metadata": {
        "colab": {
          "base_uri": "https://localhost:8080/"
        },
        "id": "NZ0pIzzEaQxj",
        "outputId": "2c4e7295-cdbc-424f-ec7f-330f82d34d6d"
      },
      "execution_count": 7,
      "outputs": [
        {
          "output_type": "execute_result",
          "data": {
            "text/plain": [
              "<head> <title>PrepInsta Website</title></head>"
            ]
          },
          "metadata": {},
          "execution_count": 7
        }
      ]
    },
    {
      "cell_type": "code",
      "source": [
        "data.html.head.title"
      ],
      "metadata": {
        "colab": {
          "base_uri": "https://localhost:8080/"
        },
        "id": "QNoVmzAfafOG",
        "outputId": "851a3785-5d45-4e72-d8ba-6f3d46bd807e"
      },
      "execution_count": 8,
      "outputs": [
        {
          "output_type": "execute_result",
          "data": {
            "text/plain": [
              "<title>PrepInsta Website</title>"
            ]
          },
          "metadata": {},
          "execution_count": 8
        }
      ]
    },
    {
      "cell_type": "code",
      "source": [
        "data.title"
      ],
      "metadata": {
        "colab": {
          "base_uri": "https://localhost:8080/"
        },
        "id": "32_b5Be-ah7V",
        "outputId": "7ab80aa0-986f-4a2b-bf9d-b6454b453bfe"
      },
      "execution_count": 9,
      "outputs": [
        {
          "output_type": "execute_result",
          "data": {
            "text/plain": [
              "<title>PrepInsta Website</title>"
            ]
          },
          "metadata": {},
          "execution_count": 9
        }
      ]
    },
    {
      "cell_type": "code",
      "source": [
        "data.h1"
      ],
      "metadata": {
        "colab": {
          "base_uri": "https://localhost:8080/"
        },
        "id": "N4bl_yTLaj4V",
        "outputId": "592f7975-a698-43f2-9388-ea0ceb946253"
      },
      "execution_count": 10,
      "outputs": [
        {
          "output_type": "execute_result",
          "data": {
            "text/plain": [
              "<h1 class=\"mainHead\">Welcome to PrepInsta</h1>"
            ]
          },
          "metadata": {},
          "execution_count": 10
        }
      ]
    },
    {
      "cell_type": "code",
      "source": [
        "data.h2"
      ],
      "metadata": {
        "colab": {
          "base_uri": "https://localhost:8080/"
        },
        "id": "wllNY7Z1atXc",
        "outputId": "a86c2610-35e7-497b-e945-e91ad855c11c"
      },
      "execution_count": 11,
      "outputs": [
        {
          "output_type": "execute_result",
          "data": {
            "text/plain": [
              "<h2 class=\"features\">Overview</h2>"
            ]
          },
          "metadata": {},
          "execution_count": 11
        }
      ]
    },
    {
      "cell_type": "code",
      "source": [
        "data.title.string"
      ],
      "metadata": {
        "colab": {
          "base_uri": "https://localhost:8080/",
          "height": 36
        },
        "id": "U7dowmTkawZp",
        "outputId": "1d7f5bed-d663-4710-eae5-7b8ecda22df5"
      },
      "execution_count": 12,
      "outputs": [
        {
          "output_type": "execute_result",
          "data": {
            "text/plain": [
              "'PrepInsta Website'"
            ],
            "application/vnd.google.colaboratory.intrinsic+json": {
              "type": "string"
            }
          },
          "metadata": {},
          "execution_count": 12
        }
      ]
    },
    {
      "cell_type": "code",
      "source": [
        "print(data.h1)\n",
        "print(data.h1.name)\n",
        "print(data.h1.string)"
      ],
      "metadata": {
        "colab": {
          "base_uri": "https://localhost:8080/"
        },
        "id": "C6qOxMoMbWP0",
        "outputId": "122c8956-0d84-4eaf-933b-4a019bc98871"
      },
      "execution_count": 13,
      "outputs": [
        {
          "output_type": "stream",
          "name": "stdout",
          "text": [
            "<h1 class=\"mainHead\">Welcome to PrepInsta</h1>\n",
            "h1\n",
            "Welcome to PrepInsta\n"
          ]
        }
      ]
    },
    {
      "cell_type": "code",
      "source": [
        "# Nothing will return if there is no existance of tag \n",
        "data.h4"
      ],
      "metadata": {
        "id": "ZI58dJfubm7Y"
      },
      "execution_count": 15,
      "outputs": []
    },
    {
      "cell_type": "code",
      "source": [
        "data.h1.attrs"
      ],
      "metadata": {
        "colab": {
          "base_uri": "https://localhost:8080/"
        },
        "id": "qzsiigQXbnM2",
        "outputId": "a5bdd6c5-2e4e-4db4-ab70-11d8ae52208b"
      },
      "execution_count": 16,
      "outputs": [
        {
          "output_type": "execute_result",
          "data": {
            "text/plain": [
              "{'class': ['mainHead']}"
            ]
          },
          "metadata": {},
          "execution_count": 16
        }
      ]
    },
    {
      "cell_type": "code",
      "source": [
        "data.title.attrs"
      ],
      "metadata": {
        "colab": {
          "base_uri": "https://localhost:8080/"
        },
        "id": "H3tgIy1VcCI4",
        "outputId": "6dedb05c-9280-4df7-9371-4eb44ee88df5"
      },
      "execution_count": 17,
      "outputs": [
        {
          "output_type": "execute_result",
          "data": {
            "text/plain": [
              "{}"
            ]
          },
          "metadata": {},
          "execution_count": 17
        }
      ]
    },
    {
      "cell_type": "code",
      "source": [
        "data.a.attrs"
      ],
      "metadata": {
        "colab": {
          "base_uri": "https://localhost:8080/"
        },
        "id": "A2fDenqrcFeI",
        "outputId": "c7808098-dfef-4132-8eec-8fd5e8e27091"
      },
      "execution_count": 18,
      "outputs": [
        {
          "output_type": "execute_result",
          "data": {
            "text/plain": [
              "{'id': 'linkweb', 'href': 'https://www.PrepInstaPrime.com'}"
            ]
          },
          "metadata": {},
          "execution_count": 18
        }
      ]
    },
    {
      "cell_type": "code",
      "source": [
        "data.a['id']"
      ],
      "metadata": {
        "colab": {
          "base_uri": "https://localhost:8080/",
          "height": 36
        },
        "id": "nwaD-iHEcNYd",
        "outputId": "6263fa8f-c379-4663-f3b5-541ff3392952"
      },
      "execution_count": 20,
      "outputs": [
        {
          "output_type": "execute_result",
          "data": {
            "text/plain": [
              "'linkweb'"
            ],
            "application/vnd.google.colaboratory.intrinsic+json": {
              "type": "string"
            }
          },
          "metadata": {},
          "execution_count": 20
        }
      ]
    },
    {
      "cell_type": "code",
      "source": [
        "data.h2['id']"
      ],
      "metadata": {
        "colab": {
          "base_uri": "https://localhost:8080/",
          "height": 287
        },
        "id": "DrtALv35cdGG",
        "outputId": "b128c874-bab2-460e-b408-46cab1ba04f3"
      },
      "execution_count": 21,
      "outputs": [
        {
          "output_type": "error",
          "ename": "KeyError",
          "evalue": "ignored",
          "traceback": [
            "\u001b[0;31m---------------------------------------------------------------------------\u001b[0m",
            "\u001b[0;31mKeyError\u001b[0m                                  Traceback (most recent call last)",
            "\u001b[0;32m<ipython-input-21-59f367c0dc3f>\u001b[0m in \u001b[0;36m<cell line: 1>\u001b[0;34m()\u001b[0m\n\u001b[0;32m----> 1\u001b[0;31m \u001b[0mdata\u001b[0m\u001b[0;34m.\u001b[0m\u001b[0mh2\u001b[0m\u001b[0;34m[\u001b[0m\u001b[0;34m'id'\u001b[0m\u001b[0;34m]\u001b[0m\u001b[0;34m\u001b[0m\u001b[0;34m\u001b[0m\u001b[0m\n\u001b[0m",
            "\u001b[0;32m/usr/local/lib/python3.9/dist-packages/bs4/element.py\u001b[0m in \u001b[0;36m__getitem__\u001b[0;34m(self, key)\u001b[0m\n\u001b[1;32m   1533\u001b[0m         \"\"\"tag[key] returns the value of the 'key' attribute for the Tag,\n\u001b[1;32m   1534\u001b[0m         and throws an exception if it's not there.\"\"\"\n\u001b[0;32m-> 1535\u001b[0;31m         \u001b[0;32mreturn\u001b[0m \u001b[0mself\u001b[0m\u001b[0;34m.\u001b[0m\u001b[0mattrs\u001b[0m\u001b[0;34m[\u001b[0m\u001b[0mkey\u001b[0m\u001b[0;34m]\u001b[0m\u001b[0;34m\u001b[0m\u001b[0;34m\u001b[0m\u001b[0m\n\u001b[0m\u001b[1;32m   1536\u001b[0m \u001b[0;34m\u001b[0m\u001b[0m\n\u001b[1;32m   1537\u001b[0m     \u001b[0;32mdef\u001b[0m \u001b[0m__iter__\u001b[0m\u001b[0;34m(\u001b[0m\u001b[0mself\u001b[0m\u001b[0;34m)\u001b[0m\u001b[0;34m:\u001b[0m\u001b[0;34m\u001b[0m\u001b[0;34m\u001b[0m\u001b[0m\n",
            "\u001b[0;31mKeyError\u001b[0m: 'id'"
          ]
        }
      ]
    },
    {
      "cell_type": "code",
      "source": [
        "# data.a['id']\n",
        "data.a.get(\"id\")"
      ],
      "metadata": {
        "colab": {
          "base_uri": "https://localhost:8080/",
          "height": 36
        },
        "id": "rYSG4IAWckC5",
        "outputId": "2a730948-b207-41f6-df8f-8d811f175063"
      },
      "execution_count": 22,
      "outputs": [
        {
          "output_type": "execute_result",
          "data": {
            "text/plain": [
              "'linkweb'"
            ],
            "application/vnd.google.colaboratory.intrinsic+json": {
              "type": "string"
            }
          },
          "metadata": {},
          "execution_count": 22
        }
      ]
    },
    {
      "cell_type": "code",
      "source": [
        "# data.h2['id']\n",
        "data.h2.get(id)"
      ],
      "metadata": {
        "id": "hUjRPOsRckPN"
      },
      "execution_count": 23,
      "outputs": []
    },
    {
      "cell_type": "code",
      "source": [
        "# Get all the text present in the HTML\n",
        "data.get_text()"
      ],
      "metadata": {
        "colab": {
          "base_uri": "https://localhost:8080/",
          "height": 88
        },
        "id": "2F_hc78zdIEF",
        "outputId": "247d7496-c783-43d0-d399-0e05bc9c3e73"
      },
      "execution_count": 24,
      "outputs": [
        {
          "output_type": "execute_result",
          "data": {
            "text/plain": [
              "' PrepInsta Website Welcome to PrepInsta This is a great website for us to prepare Overview What can you do on PrepInsta Website- You can Learn Skills You can Learn Coding You can Learn Languages You can Learn Aptitiude You can get Certifications Certifications You can get a High Paying Job PrepInsta offers you the opportunity to learn without limits all the Upskilling Courses, Placement Preparation &  Certification Courses with Single Subscription Visit PrepInstaPrime.com! Purchase Prime TCS NQT Course ML Course'"
            ],
            "application/vnd.google.colaboratory.intrinsic+json": {
              "type": "string"
            }
          },
          "metadata": {},
          "execution_count": 24
        }
      ]
    },
    {
      "cell_type": "code",
      "source": [
        "data.body.get_text()"
      ],
      "metadata": {
        "colab": {
          "base_uri": "https://localhost:8080/",
          "height": 88
        },
        "id": "e5VtffTRdIKL",
        "outputId": "541f386f-8ee6-41be-8297-c770e0c38ca0"
      },
      "execution_count": 25,
      "outputs": [
        {
          "output_type": "execute_result",
          "data": {
            "text/plain": [
              "' Welcome to PrepInsta This is a great website for us to prepare Overview What can you do on PrepInsta Website- You can Learn Skills You can Learn Coding You can Learn Languages You can Learn Aptitiude You can get Certifications Certifications You can get a High Paying Job PrepInsta offers you the opportunity to learn without limits all the Upskilling Courses, Placement Preparation &  Certification Courses with Single Subscription Visit PrepInstaPrime.com! Purchase Prime TCS NQT Course ML Course'"
            ],
            "application/vnd.google.colaboratory.intrinsic+json": {
              "type": "string"
            }
          },
          "metadata": {},
          "execution_count": 25
        }
      ]
    }
  ],
  "metadata": {
    "kernelspec": {
      "display_name": "Python 3",
      "language": "python",
      "name": "python3"
    },
    "language_info": {
      "codemirror_mode": {
        "name": "ipython",
        "version": 3
      },
      "file_extension": ".py",
      "mimetype": "text/x-python",
      "name": "python",
      "nbconvert_exporter": "python",
      "pygments_lexer": "ipython3",
      "version": "3.11.2"
    },
    "orig_nbformat": 4,
    "colab": {
      "provenance": [],
      "toc_visible": true,
      "include_colab_link": true
    }
  },
  "nbformat": 4,
  "nbformat_minor": 0
}