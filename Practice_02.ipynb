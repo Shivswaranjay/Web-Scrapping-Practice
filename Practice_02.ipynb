{
  "nbformat": 4,
  "nbformat_minor": 0,
  "metadata": {
    "colab": {
      "provenance": [],
      "authorship_tag": "ABX9TyPFZgQadvcKmUe4QfHUr+6p",
      "include_colab_link": true
    },
    "kernelspec": {
      "name": "python3",
      "display_name": "Python 3"
    },
    "language_info": {
      "name": "python"
    }
  },
  "cells": [
    {
      "cell_type": "markdown",
      "metadata": {
        "id": "view-in-github",
        "colab_type": "text"
      },
      "source": [
        "<a href=\"https://colab.research.google.com/github/Shivswaranjay/Web-Scrapping-Practices/blob/main/Practice_02.ipynb\" target=\"_parent\"><img src=\"https://colab.research.google.com/assets/colab-badge.svg\" alt=\"Open In Colab\"/></a>"
      ]
    },
    {
      "cell_type": "code",
      "execution_count": null,
      "metadata": {
        "id": "V0UI2RPuj_Fq"
      },
      "outputs": [],
      "source": [
        "html = '<!DOCTYPE html>\\\n",
        "<html>\\\n",
        "<head>\\\n",
        "    <title>PrepInsta Website</title>\\\n",
        "</head>\\\n",
        "<body>\\\n",
        "    <h1 class=\"mainHead\">Welcome to PrepInsta</h1>\\\n",
        "    <p>This is a great website for us to prepare</p>\\\n",
        "    <h2 class=\"features\">Overview</h2>\\\n",
        "    <p id=\"overview-text\">What can you do on PrepInsta Website-</p>\\\n",
        "    <p class=\"features\">You can Learn Skills</p>\\\n",
        "    <p class=\"features\">You can Learn Coding</p>\\\n",
        "    <p class=\"features\">You can Learn Languages</p>\\\n",
        "    <p class=\"features\" id = \"Apti\">You can Learn Aptitiude</p>\\\n",
        "    <p class=\"features certification\">You can get Certifications</p>\\\n",
        "    <h2>Certifications</h2>\\\n",
        "    <p class=\"features job\">You can get a High Paying Job</p>\\\n",
        "    <p class=\"features\" id=\"special-text\">PrepInsta offers you the opportunity to learn without limits all the Upskilling Courses, Placement Preparation &  Certification Courses with Single Subscription</p>\\\n",
        "    <a id=\"linkweb\" href=\"https://www.PrepInstaPrime.com\">Visit PrepInstaPrime.com!</a>\\\n",
        "    <a href=\"https://prepinstaprime.com/purchase\">Purchase Prime</a>\\\n",
        "    <a href=\"http://prepinstaprime.com/syllabus/tcs-nqt-syllabus\">TCS NQT Course</a>\\\n",
        "    <a href=\"http://prepinstaprime.com/syllabus/machine-learning-and-aritifical-intelligence-syllabus\">ML Course</a>\\\n",
        "</body>\\\n",
        "</html>'"
      ]
    },
    {
      "cell_type": "code",
      "source": [
        "from bs4 import BeautifulSoup"
      ],
      "metadata": {
        "id": "GHAcgab8mjhS"
      },
      "execution_count": null,
      "outputs": []
    },
    {
      "cell_type": "code",
      "source": [
        "data = BeautifulSoup(html,'html.parser')"
      ],
      "metadata": {
        "id": "ttxfv5Mmm6Si"
      },
      "execution_count": null,
      "outputs": []
    },
    {
      "cell_type": "code",
      "source": [
        "data"
      ],
      "metadata": {
        "colab": {
          "base_uri": "https://localhost:8080/"
        },
        "id": "-D9Wh0P-m_XR",
        "outputId": "67f79418-0804-4e84-f2f0-831606caaeb9"
      },
      "execution_count": null,
      "outputs": [
        {
          "output_type": "execute_result",
          "data": {
            "text/plain": [
              "<!DOCTYPE html>\n",
              "<html><head> <title>PrepInsta Website</title></head><body> <h1 class=\"mainHead\">Welcome to PrepInsta</h1> <p>This is a great website for us to prepare</p> <h2 class=\"features\">Overview</h2> <p id=\"overview-text\">What can you do on PrepInsta Website-</p> <p class=\"features\">You can Learn Skills</p> <p class=\"features\">You can Learn Coding</p> <p class=\"features\">You can Learn Languages</p> <p class=\"features\" id=\"Apti\">You can Learn Aptitiude</p> <p class=\"features certification\">You can get Certifications</p> <h2>Certifications</h2> <p class=\"features job\">You can get a High Paying Job</p> <p class=\"features\" id=\"special-text\">PrepInsta offers you the opportunity to learn without limits all the Upskilling Courses, Placement Preparation &amp;  Certification Courses with Single Subscription</p> <a href=\"https://www.PrepInstaPrime.com\" id=\"linkweb\">Visit PrepInstaPrime.com!</a> <a href=\"https://prepinstaprime.com/purchase\">Purchase Prime</a> <a href=\"http://prepinstaprime.com/syllabus/tcs-nqt-syllabus\">TCS NQT Course</a> <a href=\"http://prepinstaprime.com/syllabus/machine-learning-and-aritifical-intelligence-syllabus\">ML Course</a></body></html>"
            ]
          },
          "metadata": {},
          "execution_count": 4
        }
      ]
    },
    {
      "cell_type": "code",
      "source": [
        "print(data.prettify())"
      ],
      "metadata": {
        "colab": {
          "base_uri": "https://localhost:8080/"
        },
        "id": "eWhR74bJnBEa",
        "outputId": "4e921935-a6f6-4103-efc7-96ccf8f637e1"
      },
      "execution_count": null,
      "outputs": [
        {
          "output_type": "stream",
          "name": "stdout",
          "text": [
            "<!DOCTYPE html>\n",
            "<html>\n",
            " <head>\n",
            "  <title>\n",
            "   PrepInsta Website\n",
            "  </title>\n",
            " </head>\n",
            " <body>\n",
            "  <h1 class=\"mainHead\">\n",
            "   Welcome to PrepInsta\n",
            "  </h1>\n",
            "  <p>\n",
            "   This is a great website for us to prepare\n",
            "  </p>\n",
            "  <h2 class=\"features\">\n",
            "   Overview\n",
            "  </h2>\n",
            "  <p id=\"overview-text\">\n",
            "   What can you do on PrepInsta Website-\n",
            "  </p>\n",
            "  <p class=\"features\">\n",
            "   You can Learn Skills\n",
            "  </p>\n",
            "  <p class=\"features\">\n",
            "   You can Learn Coding\n",
            "  </p>\n",
            "  <p class=\"features\">\n",
            "   You can Learn Languages\n",
            "  </p>\n",
            "  <p class=\"features\" id=\"Apti\">\n",
            "   You can Learn Aptitiude\n",
            "  </p>\n",
            "  <p class=\"features certification\">\n",
            "   You can get Certifications\n",
            "  </p>\n",
            "  <h2>\n",
            "   Certifications\n",
            "  </h2>\n",
            "  <p class=\"features job\">\n",
            "   You can get a High Paying Job\n",
            "  </p>\n",
            "  <p class=\"features\" id=\"special-text\">\n",
            "   PrepInsta offers you the opportunity to learn without limits all the Upskilling Courses, Placement Preparation &amp;  Certification Courses with Single Subscription\n",
            "  </p>\n",
            "  <a href=\"https://www.PrepInstaPrime.com\" id=\"linkweb\">\n",
            "   Visit PrepInstaPrime.com!\n",
            "  </a>\n",
            "  <a href=\"https://prepinstaprime.com/purchase\">\n",
            "   Purchase Prime\n",
            "  </a>\n",
            "  <a href=\"http://prepinstaprime.com/syllabus/tcs-nqt-syllabus\">\n",
            "   TCS NQT Course\n",
            "  </a>\n",
            "  <a href=\"http://prepinstaprime.com/syllabus/machine-learning-and-aritifical-intelligence-syllabus\">\n",
            "   ML Course\n",
            "  </a>\n",
            " </body>\n",
            "</html>\n"
          ]
        }
      ]
    },
    {
      "cell_type": "code",
      "source": [
        "data.find('p')"
      ],
      "metadata": {
        "colab": {
          "base_uri": "https://localhost:8080/"
        },
        "id": "SulJZ8EOnEI_",
        "outputId": "a00f6b5f-c1e0-4171-dd8e-d75efb651fe3"
      },
      "execution_count": null,
      "outputs": [
        {
          "output_type": "execute_result",
          "data": {
            "text/plain": [
              "<p>This is a great website for us to prepare</p>"
            ]
          },
          "metadata": {},
          "execution_count": 7
        }
      ]
    },
    {
      "cell_type": "code",
      "source": [
        "data.find_all('p')"
      ],
      "metadata": {
        "colab": {
          "base_uri": "https://localhost:8080/"
        },
        "id": "ICias1WJnRUC",
        "outputId": "e4b2a6d2-359f-40ed-ca77-693551f7e37a"
      },
      "execution_count": null,
      "outputs": [
        {
          "output_type": "execute_result",
          "data": {
            "text/plain": [
              "[<p>This is a great website for us to prepare</p>,\n",
              " <p id=\"overview-text\">What can you do on PrepInsta Website-</p>,\n",
              " <p class=\"features\">You can Learn Skills</p>,\n",
              " <p class=\"features\">You can Learn Coding</p>,\n",
              " <p class=\"features\">You can Learn Languages</p>,\n",
              " <p class=\"features\" id=\"Apti\">You can Learn Aptitiude</p>,\n",
              " <p class=\"features certification\">You can get Certifications</p>,\n",
              " <p class=\"features job\">You can get a High Paying Job</p>,\n",
              " <p class=\"features\" id=\"special-text\">PrepInsta offers you the opportunity to learn without limits all the Upskilling Courses, Placement Preparation &amp;  Certification Courses with Single Subscription</p>]"
            ]
          },
          "metadata": {},
          "execution_count": 8
        }
      ]
    },
    {
      "cell_type": "code",
      "source": [
        "para_list= data.find_all('p')"
      ],
      "metadata": {
        "id": "9dv_gjd1q1ag"
      },
      "execution_count": null,
      "outputs": []
    },
    {
      "cell_type": "code",
      "source": [
        "for para in para_list:\n",
        "  print(\"Para \"+str(para_list.index(para))+\" : \"+str(para.string))"
      ],
      "metadata": {
        "colab": {
          "base_uri": "https://localhost:8080/"
        },
        "id": "VcdmMTZjq8tl",
        "outputId": "9e762c33-00f8-4d72-f7e4-eddf0350e231"
      },
      "execution_count": null,
      "outputs": [
        {
          "output_type": "stream",
          "name": "stdout",
          "text": [
            "Para 0 : This is a great website for us to prepare\n",
            "Para 1 : What can you do on PrepInsta Website-\n",
            "Para 2 : You can Learn Skills\n",
            "Para 3 : You can Learn Coding\n",
            "Para 4 : You can Learn Languages\n",
            "Para 5 : You can Learn Aptitiude\n",
            "Para 6 : You can get Certifications\n",
            "Para 7 : You can get a High Paying Job\n",
            "Para 8 : PrepInsta offers you the opportunity to learn without limits all the Upskilling Courses, Placement Preparation &  Certification Courses with Single Subscription\n"
          ]
        }
      ]
    },
    {
      "cell_type": "code",
      "source": [
        "# Returns in order of occurance \n",
        "data.find_all(['h1','p','a'])"
      ],
      "metadata": {
        "colab": {
          "base_uri": "https://localhost:8080/"
        },
        "id": "CZR311-Brxbx",
        "outputId": "73de7a00-4135-4552-ea6b-5141efa46e28"
      },
      "execution_count": null,
      "outputs": [
        {
          "output_type": "execute_result",
          "data": {
            "text/plain": [
              "[<h1 class=\"mainHead\">Welcome to PrepInsta</h1>,\n",
              " <p>This is a great website for us to prepare</p>,\n",
              " <p id=\"overview-text\">What can you do on PrepInsta Website-</p>,\n",
              " <p class=\"features\">You can Learn Skills</p>,\n",
              " <p class=\"features\">You can Learn Coding</p>,\n",
              " <p class=\"features\">You can Learn Languages</p>,\n",
              " <p class=\"features\" id=\"Apti\">You can Learn Aptitiude</p>,\n",
              " <p class=\"features certification\">You can get Certifications</p>,\n",
              " <p class=\"features job\">You can get a High Paying Job</p>,\n",
              " <p class=\"features\" id=\"special-text\">PrepInsta offers you the opportunity to learn without limits all the Upskilling Courses, Placement Preparation &amp;  Certification Courses with Single Subscription</p>,\n",
              " <a href=\"https://www.PrepInstaPrime.com\" id=\"linkweb\">Visit PrepInstaPrime.com!</a>,\n",
              " <a href=\"https://prepinstaprime.com/purchase\">Purchase Prime</a>,\n",
              " <a href=\"http://prepinstaprime.com/syllabus/tcs-nqt-syllabus\">TCS NQT Course</a>,\n",
              " <a href=\"http://prepinstaprime.com/syllabus/machine-learning-and-aritifical-intelligence-syllabus\">ML Course</a>]"
            ]
          },
          "metadata": {},
          "execution_count": 13
        }
      ]
    },
    {
      "cell_type": "code",
      "source": [
        "all_data_sets = data.find_all(True)\n",
        "print(all_data_sets)"
      ],
      "metadata": {
        "colab": {
          "base_uri": "https://localhost:8080/"
        },
        "id": "jKuyXhsXsOG_",
        "outputId": "4c4f7764-6480-4900-b77b-dbb95be25027"
      },
      "execution_count": null,
      "outputs": [
        {
          "output_type": "stream",
          "name": "stdout",
          "text": [
            "[<html><head> <title>PrepInsta Website</title></head><body> <h1 class=\"mainHead\">Welcome to PrepInsta</h1> <p>This is a great website for us to prepare</p> <h2 class=\"features\">Overview</h2> <p id=\"overview-text\">What can you do on PrepInsta Website-</p> <p class=\"features\">You can Learn Skills</p> <p class=\"features\">You can Learn Coding</p> <p class=\"features\">You can Learn Languages</p> <p class=\"features\" id=\"Apti\">You can Learn Aptitiude</p> <p class=\"features certification\">You can get Certifications</p> <h2>Certifications</h2> <p class=\"features job\">You can get a High Paying Job</p> <p class=\"features\" id=\"special-text\">PrepInsta offers you the opportunity to learn without limits all the Upskilling Courses, Placement Preparation &amp;  Certification Courses with Single Subscription</p> <a href=\"https://www.PrepInstaPrime.com\" id=\"linkweb\">Visit PrepInstaPrime.com!</a> <a href=\"https://prepinstaprime.com/purchase\">Purchase Prime</a> <a href=\"http://prepinstaprime.com/syllabus/tcs-nqt-syllabus\">TCS NQT Course</a> <a href=\"http://prepinstaprime.com/syllabus/machine-learning-and-aritifical-intelligence-syllabus\">ML Course</a></body></html>, <head> <title>PrepInsta Website</title></head>, <title>PrepInsta Website</title>, <body> <h1 class=\"mainHead\">Welcome to PrepInsta</h1> <p>This is a great website for us to prepare</p> <h2 class=\"features\">Overview</h2> <p id=\"overview-text\">What can you do on PrepInsta Website-</p> <p class=\"features\">You can Learn Skills</p> <p class=\"features\">You can Learn Coding</p> <p class=\"features\">You can Learn Languages</p> <p class=\"features\" id=\"Apti\">You can Learn Aptitiude</p> <p class=\"features certification\">You can get Certifications</p> <h2>Certifications</h2> <p class=\"features job\">You can get a High Paying Job</p> <p class=\"features\" id=\"special-text\">PrepInsta offers you the opportunity to learn without limits all the Upskilling Courses, Placement Preparation &amp;  Certification Courses with Single Subscription</p> <a href=\"https://www.PrepInstaPrime.com\" id=\"linkweb\">Visit PrepInstaPrime.com!</a> <a href=\"https://prepinstaprime.com/purchase\">Purchase Prime</a> <a href=\"http://prepinstaprime.com/syllabus/tcs-nqt-syllabus\">TCS NQT Course</a> <a href=\"http://prepinstaprime.com/syllabus/machine-learning-and-aritifical-intelligence-syllabus\">ML Course</a></body>, <h1 class=\"mainHead\">Welcome to PrepInsta</h1>, <p>This is a great website for us to prepare</p>, <h2 class=\"features\">Overview</h2>, <p id=\"overview-text\">What can you do on PrepInsta Website-</p>, <p class=\"features\">You can Learn Skills</p>, <p class=\"features\">You can Learn Coding</p>, <p class=\"features\">You can Learn Languages</p>, <p class=\"features\" id=\"Apti\">You can Learn Aptitiude</p>, <p class=\"features certification\">You can get Certifications</p>, <h2>Certifications</h2>, <p class=\"features job\">You can get a High Paying Job</p>, <p class=\"features\" id=\"special-text\">PrepInsta offers you the opportunity to learn without limits all the Upskilling Courses, Placement Preparation &amp;  Certification Courses with Single Subscription</p>, <a href=\"https://www.PrepInstaPrime.com\" id=\"linkweb\">Visit PrepInstaPrime.com!</a>, <a href=\"https://prepinstaprime.com/purchase\">Purchase Prime</a>, <a href=\"http://prepinstaprime.com/syllabus/tcs-nqt-syllabus\">TCS NQT Course</a>, <a href=\"http://prepinstaprime.com/syllabus/machine-learning-and-aritifical-intelligence-syllabus\">ML Course</a>]\n"
          ]
        }
      ]
    },
    {
      "cell_type": "code",
      "source": [
        "all_data_list = data.find_all(True)\n",
        "#tag_list = {} will not create set but create empty dictionary\n",
        "# as set looks like {1,2,3,4} and dict looks like {1:\"val1\", 2: 'val2' .....}\n",
        "# by default takes dictionary\n",
        "\n",
        "tag_list = set()\n",
        "\n",
        "for tag_data in all_data_list:\n",
        "    if tag_data.name not in tag_list:\n",
        "        tag_list.add(tag_data.name)\n",
        "        \n",
        "print(tag_list)"
      ],
      "metadata": {
        "id": "605hutK_RHYQ"
      },
      "execution_count": null,
      "outputs": []
    },
    {
      "cell_type": "code",
      "source": [
        "data.find_all(class_=\"features\")"
      ],
      "metadata": {
        "colab": {
          "base_uri": "https://localhost:8080/"
        },
        "id": "MjrlokK5yxOE",
        "outputId": "f4a79887-9c20-440b-9c33-6d5a1f773fee"
      },
      "execution_count": null,
      "outputs": [
        {
          "output_type": "execute_result",
          "data": {
            "text/plain": [
              "[<h2 class=\"features\">Overview</h2>,\n",
              " <p class=\"features\">You can Learn Skills</p>,\n",
              " <p class=\"features\">You can Learn Coding</p>,\n",
              " <p class=\"features\">You can Learn Languages</p>,\n",
              " <p class=\"features\" id=\"Apti\">You can Learn Aptitiude</p>,\n",
              " <p class=\"features certification\">You can get Certifications</p>,\n",
              " <p class=\"features job\">You can get a High Paying Job</p>,\n",
              " <p class=\"features\" id=\"special-text\">PrepInsta offers you the opportunity to learn without limits all the Upskilling Courses, Placement Preparation &amp;  Certification Courses with Single Subscription</p>]"
            ]
          },
          "metadata": {},
          "execution_count": 19
        }
      ]
    },
    {
      "cell_type": "code",
      "source": [
        "data.find_all(class_ = 'certification')"
      ],
      "metadata": {
        "id": "HiYvHpJ5xzPU"
      },
      "execution_count": null,
      "outputs": []
    },
    {
      "cell_type": "code",
      "source": [
        "data.find_all('h2', class_ = 'features')"
      ],
      "metadata": {
        "id": "OXfk57MqRMjf"
      },
      "execution_count": null,
      "outputs": []
    },
    {
      "cell_type": "code",
      "source": [
        "data.find_all('p', class_ = 'features')"
      ],
      "metadata": {
        "id": "BWlfj2_QRMVq"
      },
      "execution_count": null,
      "outputs": []
    },
    {
      "cell_type": "code",
      "source": [
        "data.find_all(id = 'Apti')"
      ],
      "metadata": {
        "id": "sDuAjwzHRMGD"
      },
      "execution_count": null,
      "outputs": []
    },
    {
      "cell_type": "code",
      "source": [
        "data.find_all('p', class_ = 'features', limit = 2)"
      ],
      "metadata": {
        "id": "1q6byyU5RLvY"
      },
      "execution_count": null,
      "outputs": []
    },
    {
      "cell_type": "code",
      "source": [
        "data.find_all(href = 'https://www.PrepInstaPrime.com')\n",
        "# below wont work\n",
        "# data.find_all(href=\"www.PrepInstaPrime.com\")"
      ],
      "metadata": {
        "id": "hJPC9OnfRb5f"
      },
      "execution_count": null,
      "outputs": []
    },
    {
      "cell_type": "code",
      "source": [
        "import re\n",
        "\n",
        "data.find_all(href = re.compile(\"prep\"))\n",
        "#wont work below\n",
        "#data.find_all(href=re.compile(\"prep\"))"
      ],
      "metadata": {
        "id": "2UgXzK70RfrY"
      },
      "execution_count": null,
      "outputs": []
    },
    {
      "cell_type": "code",
      "source": [
        "data.find_all(href = re.compile('www'))"
      ],
      "metadata": {
        "id": "WnA4eTxnRgTQ"
      },
      "execution_count": null,
      "outputs": []
    },
    {
      "cell_type": "code",
      "source": [
        "# string=[\"You can Learn Coding\", \"You can Learn Skills\", \"You can Learn Languages\"]\n",
        "data.find_all('p', string=[\"You can Learn Coding\", \"You can Learn Skills\", \"You can Learn Languages\"])"
      ],
      "metadata": {
        "id": "1TwaHAi8Rg5n"
      },
      "execution_count": null,
      "outputs": []
    },
    {
      "cell_type": "code",
      "source": [
        "data.find_all('p', string = re.compile(\"Learn\"))"
      ],
      "metadata": {
        "id": "aAg6Y0cfRqMj"
      },
      "execution_count": null,
      "outputs": []
    },
    {
      "cell_type": "code",
      "source": [
        "mylist = data.find_all('p')\n",
        "\n",
        "for item in mylist:\n",
        "    print(item.string)"
      ],
      "metadata": {
        "id": "0-DQ3hkFRp4I"
      },
      "execution_count": null,
      "outputs": []
    }
  ]
}