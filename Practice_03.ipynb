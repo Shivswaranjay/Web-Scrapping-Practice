{
  "nbformat": 4,
  "nbformat_minor": 0,
  "metadata": {
    "colab": {
      "provenance": [],
      "authorship_tag": "ABX9TyPZ+eAp9KnXtVGIdWS6UOhK",
      "include_colab_link": true
    },
    "kernelspec": {
      "name": "python3",
      "display_name": "Python 3"
    },
    "language_info": {
      "name": "python"
    }
  },
  "cells": [
    {
      "cell_type": "markdown",
      "metadata": {
        "id": "view-in-github",
        "colab_type": "text"
      },
      "source": [
        "<a href=\"https://colab.research.google.com/github/Shivswaranjay/Web-Scrapping-Practices/blob/main/Practice_03.ipynb\" target=\"_parent\"><img src=\"https://colab.research.google.com/assets/colab-badge.svg\" alt=\"Open In Colab\"/></a>"
      ]
    },
    {
      "cell_type": "code",
      "execution_count": 2,
      "metadata": {
        "id": "VxZTYWB8TgUc"
      },
      "outputs": [],
      "source": [
        "html = '<!DOCTYPE html>\\\n",
        "<html>\\\n",
        "<head>\\\n",
        "<title>PrepInsta Website</title>\\\n",
        "</head>\\\n",
        "<body>\\\n",
        "<h1 class=\"mainHead\">Welcome to PrepInsta</h1>\\\n",
        "<p>This is a great website for us to prepare</p>\\\n",
        "<p class=\"link\">This is a <a href=\"https://prepinstaprime.com\">Link</a> to PrepInsta website</p>\\\n",
        "<p>We wish you <b>All the best</b></p>\\\n",
        "<h2><a href=\"https://prepinsta.com/terms-and-conditions/\">Terms and Conditions</a></h2>\\\n",
        "</body>\\\n",
        "</html>'"
      ]
    },
    {
      "cell_type": "code",
      "source": [
        "from bs4 import BeautifulSoup\n",
        "data = BeautifulSoup(html,'html.parser')\n",
        "data"
      ],
      "metadata": {
        "colab": {
          "base_uri": "https://localhost:8080/"
        },
        "id": "6-Ueur4iT63s",
        "outputId": "98cc38df-5079-4e4a-d2dc-51a926cd2154"
      },
      "execution_count": 3,
      "outputs": [
        {
          "output_type": "execute_result",
          "data": {
            "text/plain": [
              "<!DOCTYPE html>\n",
              "<html><head><title>PrepInsta Website</title></head><body><h1 class=\"mainHead\">Welcome to PrepInsta</h1><p>This is a great website for us to prepare</p><p class=\"link\">This is a <a href=\"https://prepinstaprime.com\">Link</a> to PrepInsta website</p><p>We wish you <b>All the best</b></p><h2><a href=\"https://prepinsta.com/terms-and-conditions/\">Terms and Conditions</a></h2></body></html>"
            ]
          },
          "metadata": {},
          "execution_count": 3
        }
      ]
    },
    {
      "cell_type": "code",
      "source": [
        "print(data.prettify())"
      ],
      "metadata": {
        "colab": {
          "base_uri": "https://localhost:8080/"
        },
        "id": "KhEditMQUclw",
        "outputId": "4500810c-a040-4582-bce8-c708679c88fb"
      },
      "execution_count": 4,
      "outputs": [
        {
          "output_type": "stream",
          "name": "stdout",
          "text": [
            "<!DOCTYPE html>\n",
            "<html>\n",
            " <head>\n",
            "  <title>\n",
            "   PrepInsta Website\n",
            "  </title>\n",
            " </head>\n",
            " <body>\n",
            "  <h1 class=\"mainHead\">\n",
            "   Welcome to PrepInsta\n",
            "  </h1>\n",
            "  <p>\n",
            "   This is a great website for us to prepare\n",
            "  </p>\n",
            "  <p class=\"link\">\n",
            "   This is a\n",
            "   <a href=\"https://prepinstaprime.com\">\n",
            "    Link\n",
            "   </a>\n",
            "   to PrepInsta website\n",
            "  </p>\n",
            "  <p>\n",
            "   We wish you\n",
            "   <b>\n",
            "    All the best\n",
            "   </b>\n",
            "  </p>\n",
            "  <h2>\n",
            "   <a href=\"https://prepinsta.com/terms-and-conditions/\">\n",
            "    Terms and Conditions\n",
            "   </a>\n",
            "  </h2>\n",
            " </body>\n",
            "</html>\n"
          ]
        }
      ]
    },
    {
      "cell_type": "code",
      "source": [
        "data.a"
      ],
      "metadata": {
        "colab": {
          "base_uri": "https://localhost:8080/"
        },
        "id": "Kszrux5xUtdd",
        "outputId": "469e26f5-df66-4e85-fc9f-58ab03402d65"
      },
      "execution_count": 8,
      "outputs": [
        {
          "output_type": "execute_result",
          "data": {
            "text/plain": [
              "<a href=\"https://prepinstaprime.com\">Link</a>"
            ]
          },
          "metadata": {},
          "execution_count": 8
        }
      ]
    },
    {
      "cell_type": "code",
      "source": [
        "data.h2.a"
      ],
      "metadata": {
        "colab": {
          "base_uri": "https://localhost:8080/"
        },
        "id": "2JSbHSGXUxTp",
        "outputId": "0b361d88-7bc8-4478-f1d6-cba364b8cdb6"
      },
      "execution_count": 9,
      "outputs": [
        {
          "output_type": "execute_result",
          "data": {
            "text/plain": [
              "<a href=\"https://prepinsta.com/terms-and-conditions/\">Terms and Conditions</a>"
            ]
          },
          "metadata": {},
          "execution_count": 9
        }
      ]
    },
    {
      "cell_type": "code",
      "source": [
        "data.body.h2.a"
      ],
      "metadata": {
        "colab": {
          "base_uri": "https://localhost:8080/"
        },
        "id": "hfSqIHn0UxZX",
        "outputId": "9c4ad051-d03b-43d0-96d5-681731c110c6"
      },
      "execution_count": 10,
      "outputs": [
        {
          "output_type": "execute_result",
          "data": {
            "text/plain": [
              "<a href=\"https://prepinsta.com/terms-and-conditions/\">Terms and Conditions</a>"
            ]
          },
          "metadata": {},
          "execution_count": 10
        }
      ]
    },
    {
      "cell_type": "code",
      "source": [
        "data.html.body.h2.a"
      ],
      "metadata": {
        "colab": {
          "base_uri": "https://localhost:8080/"
        },
        "id": "Oav3143WUxdB",
        "outputId": "77c217d0-ef69-459c-ce49-e77fa66c373e"
      },
      "execution_count": 11,
      "outputs": [
        {
          "output_type": "execute_result",
          "data": {
            "text/plain": [
              "<a href=\"https://prepinsta.com/terms-and-conditions/\">Terms and Conditions</a>"
            ]
          },
          "metadata": {},
          "execution_count": 11
        }
      ]
    },
    {
      "cell_type": "code",
      "source": [
        "data.html.body.h2.a.string"
      ],
      "metadata": {
        "colab": {
          "base_uri": "https://localhost:8080/",
          "height": 36
        },
        "id": "fQcYlou6Uxge",
        "outputId": "3ad07ceb-ee6c-41a7-c007-a815db14e9e8"
      },
      "execution_count": 12,
      "outputs": [
        {
          "output_type": "execute_result",
          "data": {
            "text/plain": [
              "'Terms and Conditions'"
            ],
            "application/vnd.google.colaboratory.intrinsic+json": {
              "type": "string"
            }
          },
          "metadata": {},
          "execution_count": 12
        }
      ]
    },
    {
      "cell_type": "code",
      "source": [
        "p_list=data.find_all('p')\n",
        "\n",
        "for item in p_list:\n",
        "  print(item)"
      ],
      "metadata": {
        "colab": {
          "base_uri": "https://localhost:8080/"
        },
        "id": "JmQ14upBUxk6",
        "outputId": "c00ff9a7-cc6b-4751-db1c-0783ee533875"
      },
      "execution_count": 5,
      "outputs": [
        {
          "output_type": "stream",
          "name": "stdout",
          "text": [
            "<p>This is a great website for us to prepare</p>\n",
            "<p class=\"link\">This is a <a href=\"https://prepinstaprime.com\">Link</a> to PrepInsta website</p>\n",
            "<p>We wish you <b>All the best</b></p>\n"
          ]
        }
      ]
    },
    {
      "cell_type": "code",
      "source": [
        "p_list = data.find_all('p')\n",
        "\n",
        "for item in p_list:\n",
        "  print(item.string)"
      ],
      "metadata": {
        "colab": {
          "base_uri": "https://localhost:8080/"
        },
        "id": "gjtTwbyAUxog",
        "outputId": "6030a073-0606-4ea0-812a-144644044700"
      },
      "execution_count": 6,
      "outputs": [
        {
          "output_type": "stream",
          "name": "stdout",
          "text": [
            "This is a great website for us to prepare\n",
            "None\n",
            "None\n"
          ]
        }
      ]
    },
    {
      "cell_type": "code",
      "source": [
        "p_list = data.find_all('p')\n",
        "\n",
        "for item in p_list:\n",
        "  print(item.stripped_strings)"
      ],
      "metadata": {
        "colab": {
          "base_uri": "https://localhost:8080/"
        },
        "id": "AmDvvaIGUxrl",
        "outputId": "4d985410-8366-4307-e848-28527b69b8bd"
      },
      "execution_count": 7,
      "outputs": [
        {
          "output_type": "stream",
          "name": "stdout",
          "text": [
            "<generator object PageElement.stripped_strings at 0x7f4dd680fba0>\n",
            "<generator object PageElement.stripped_strings at 0x7f4dd680fba0>\n",
            "<generator object PageElement.stripped_strings at 0x7f4dd680fba0>\n"
          ]
        }
      ]
    },
    {
      "cell_type": "code",
      "source": [
        "p_list = data.find_all('p')\n",
        "\n",
        "for item in p_list:\n",
        "  print(list(item.stripped_strings))"
      ],
      "metadata": {
        "colab": {
          "base_uri": "https://localhost:8080/"
        },
        "id": "U6qLJ9x3UxuN",
        "outputId": "1abf280a-f8b1-4273-a4dd-1c6def94db21"
      },
      "execution_count": 8,
      "outputs": [
        {
          "output_type": "stream",
          "name": "stdout",
          "text": [
            "['This is a great website for us to prepare']\n",
            "['This is a', 'Link', 'to PrepInsta website']\n",
            "['We wish you', 'All the best']\n"
          ]
        }
      ]
    },
    {
      "cell_type": "code",
      "source": [
        "all_data_list = data.find_all(True)\n",
        "\n",
        "tag_list = set()\n",
        "\n",
        "for tag_data in all_data_list:\n",
        "    if tag_data.name not in tag_list:\n",
        "        tag_list.add(tag_data.name)\n",
        "\n",
        "print(tag_list)\n",
        "print(len(tag_list))"
      ],
      "metadata": {
        "colab": {
          "base_uri": "https://localhost:8080/"
        },
        "id": "zvhcA_cMUyGu",
        "outputId": "dc3df976-545a-41a5-9673-e2ab3d69fc58"
      },
      "execution_count": 9,
      "outputs": [
        {
          "output_type": "stream",
          "name": "stdout",
          "text": [
            "{'p', 'h1', 'body', 'html', 'a', 'head', 'title', 'h2', 'b'}\n",
            "9\n"
          ]
        }
      ]
    },
    {
      "cell_type": "code",
      "source": [
        "contents = data.html.contents\n",
        "\n",
        "for content in contents:\n",
        "    print(content)\n",
        "    \n",
        "print(len(contents))"
      ],
      "metadata": {
        "colab": {
          "base_uri": "https://localhost:8080/"
        },
        "id": "vZBMfYCVUyKT",
        "outputId": "334c715f-4df7-4957-9fca-b0815179c65b"
      },
      "execution_count": 10,
      "outputs": [
        {
          "output_type": "stream",
          "name": "stdout",
          "text": [
            "<head><title>PrepInsta Website</title></head>\n",
            "<body><h1 class=\"mainHead\">Welcome to PrepInsta</h1><p>This is a great website for us to prepare</p><p class=\"link\">This is a <a href=\"https://prepinstaprime.com\">Link</a> to PrepInsta website</p><p>We wish you <b>All the best</b></p><h2><a href=\"https://prepinsta.com/terms-and-conditions/\">Terms and Conditions</a></h2></body>\n",
            "2\n"
          ]
        }
      ]
    },
    {
      "cell_type": "code",
      "source": [
        "# contents gets an iterator for the list and for child in title_tag. \n",
        "# children uses the iterator its been handed\n",
        "# difference between contents and children\n",
        "children = data.html.children\n",
        "\n",
        "for child in children:\n",
        "    print(child)"
      ],
      "metadata": {
        "colab": {
          "base_uri": "https://localhost:8080/"
        },
        "id": "Na8jRb4KAndR",
        "outputId": "417f4d78-bade-4f7c-c34a-62903b23d3aa"
      },
      "execution_count": 11,
      "outputs": [
        {
          "output_type": "stream",
          "name": "stdout",
          "text": [
            "<head><title>PrepInsta Website</title></head>\n",
            "<body><h1 class=\"mainHead\">Welcome to PrepInsta</h1><p>This is a great website for us to prepare</p><p class=\"link\">This is a <a href=\"https://prepinstaprime.com\">Link</a> to PrepInsta website</p><p>We wish you <b>All the best</b></p><h2><a href=\"https://prepinsta.com/terms-and-conditions/\">Terms and Conditions</a></h2></body>\n"
          ]
        }
      ]
    },
    {
      "cell_type": "code",
      "source": [
        "children = data.body.children\n",
        "\n",
        "for child in children:\n",
        "    print(child)\n",
        "    \n",
        "print(len(list(data.body.children)))"
      ],
      "metadata": {
        "id": "eg-Chn2EAniA"
      },
      "execution_count": null,
      "outputs": []
    },
    {
      "cell_type": "code",
      "source": [
        "data.body.descendants"
      ],
      "metadata": {
        "id": "sDUm3T9vAnkn"
      },
      "execution_count": null,
      "outputs": []
    },
    {
      "cell_type": "code",
      "source": [
        "descendants_list = list(data.body.descendants)\n",
        "\n",
        "for descendant in descendants_list:\n",
        "    print(descendant)\n",
        "    print(\"---------\")\n",
        "    \n",
        "print(len(descendants_list))"
      ],
      "metadata": {
        "id": "Qp3mGl8QAnnZ"
      },
      "execution_count": null,
      "outputs": []
    },
    {
      "cell_type": "code",
      "source": [
        "descendants_list"
      ],
      "metadata": {
        "id": "mX7sT8TeAnp1"
      },
      "execution_count": null,
      "outputs": []
    },
    {
      "cell_type": "code",
      "source": [
        "parent = data.body.parent\n",
        "parent"
      ],
      "metadata": {
        "id": "bsLvCVQtAntI"
      },
      "execution_count": null,
      "outputs": []
    },
    {
      "cell_type": "code",
      "source": [
        "parent = data.p.parent\n",
        "parent"
      ],
      "metadata": {
        "id": "9YsKfj12BHfn"
      },
      "execution_count": null,
      "outputs": []
    },
    {
      "cell_type": "code",
      "source": [
        "parent = data.b.parent\n",
        "parent"
      ],
      "metadata": {
        "id": "dgFeSwKZBJiJ"
      },
      "execution_count": null,
      "outputs": []
    }
  ]
}